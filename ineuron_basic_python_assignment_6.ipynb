{
  "cells": [
    {
      "cell_type": "code",
      "execution_count": null,
      "metadata": {
        "id": "O4h3fv50HTox"
      },
      "outputs": [],
      "source": []
    },
    {
      "cell_type": "markdown",
      "metadata": {
        "id": "PpoP1Z9mHYOm"
      },
      "source": [
        "# ineuron - basic python assignment 6"
      ]
    },
    {
      "cell_type": "markdown",
      "metadata": {
        "id": "Mur7Nd40HT3u"
      },
      "source": [
        "1. What are escape characters, and how do you use them?\n",
        "2. What do the escape characters n and t stand for?\n",
        "3. What is the way to include backslash characters in a string?\n",
        "4. The string &quot;Howl&#39;s Moving Castle&quot; is a correct value. Why isn&#39;t the single quote character in the\n",
        "word Howl&#39;s not escaped a problem?\n",
        "5. How do you write a string of newlines if you don&#39;t want to use the n character?\n",
        "6. What are the values of the given expressions?\n",
        "&#39;Hello, world!&#39;[1]\n",
        "&#39;Hello, world!&#39;[0:5]\n",
        "&#39;Hello, world!&#39;[:5]\n",
        "&#39;Hello, world!&#39;[3:]\n",
        "\n",
        "7. What are the values of the following expressions?\n",
        "&#39;Hello&#39;.upper()\n",
        "&#39;Hello&#39;.upper().isupper()\n",
        "&#39;Hello&#39;.upper().lower()\n",
        "8. What are the values of the following expressions?\n",
        "&#39;Remember, remember, the fifth of July.&#39;.split()\n",
        "&#39;-&#39;.join(&#39;There can only one.&#39;.split())\n",
        "9. What are the methods for right-justifying, left-justifying, and centering a string?\n",
        "10. What is the best way to remove whitespace characters from the start or end?"
      ]
    },
    {
      "cell_type": "code",
      "execution_count": null,
      "metadata": {
        "colab": {
          "base_uri": "https://localhost:8080/",
          "height": 35
        },
        "id": "EBQt7q1IHVED",
        "outputId": "6da6f810-babc-4d26-ae4c-0e84d79357c0"
      },
      "outputs": [
        {
          "data": {
            "application/vnd.google.colaboratory.intrinsic+json": {
              "type": "string"
            },
            "text/plain": [
              "\"hello 'how are you'\""
            ]
          },
          "execution_count": 2,
          "metadata": {},
          "output_type": "execute_result"
        }
      ],
      "source": [
        "# ques 1\n",
        "'''\n",
        "An escape character is a backslash \\ followed by the character you want to insert. \n",
        "it is used to insert characters that are illegal in a string, use an escape character.\n",
        "example-\n",
        "'''\n",
        "\n",
        "s = 'hello \\'how are you\\''\n",
        "s\n",
        "\n"
      ]
    },
    {
      "cell_type": "code",
      "execution_count": null,
      "metadata": {
        "colab": {
          "base_uri": "https://localhost:8080/",
          "height": 35
        },
        "id": "malCeD10IGQj",
        "outputId": "ab6cb612-37a0-46fd-bfe0-f21fdff7d3a8"
      },
      "outputs": [
        {
          "data": {
            "application/vnd.google.colaboratory.intrinsic+json": {
              "type": "string"
            },
            "text/plain": [
              "'\\n\\n stands for new line character\\n\\t stands for tab\\n'"
            ]
          },
          "execution_count": 3,
          "metadata": {},
          "output_type": "execute_result"
        }
      ],
      "source": [
        "# ques 2\n",
        "'''\n",
        "\\n stands for new line\n",
        "\\t stands for tab\n",
        "'''"
      ]
    },
    {
      "cell_type": "code",
      "execution_count": 18,
      "metadata": {
        "colab": {
          "base_uri": "https://localhost:8080/",
          "height": 35
        },
        "id": "qsANTr7RIW0x",
        "outputId": "97950eb5-f3d6-4732-88a1-d233281b636e"
      },
      "outputs": [
        {
          "output_type": "execute_result",
          "data": {
            "text/plain": [
              "\"hello'how are you'\""
            ],
            "application/vnd.google.colaboratory.intrinsic+json": {
              "type": "string"
            }
          },
          "metadata": {},
          "execution_count": 18
        }
      ],
      "source": [
        "# ques 3\n",
        "s = 'hello\\'how are you\\''\n",
        "s"
      ]
    },
    {
      "cell_type": "code",
      "execution_count": 20,
      "metadata": {
        "id": "nu8Fum6iIh86",
        "colab": {
          "base_uri": "https://localhost:8080/",
          "height": 70
        },
        "outputId": "6501875c-7552-4aa9-e44c-53b728eb2124"
      },
      "outputs": [
        {
          "output_type": "execute_result",
          "data": {
            "text/plain": [
              "'\\n\"Howl\\'s Moving Castle\" in the given string  we represented the string with double quotes and we used\\nsingle quote inside double quotes so it doesn\\'t require escape character if we use double quotes insde\\nthe above string it will return the error because it will require escape character now.\\n'"
            ],
            "application/vnd.google.colaboratory.intrinsic+json": {
              "type": "string"
            }
          },
          "metadata": {},
          "execution_count": 20
        }
      ],
      "source": [
        "#ques 4\n",
        "\n",
        "'''\n",
        "\"Howl's Moving Castle\" in the given string  we represented the string with double quotes and we used\n",
        "single quote inside double quotes so it doesn't require escape character if we use double quotes insde\n",
        "the above string it will return the error because it will require escape character now.\n",
        "'''"
      ]
    },
    {
      "cell_type": "code",
      "source": [
        "# ques 5\n",
        "'''\n",
        "By using the doc string (''' ''')\n",
        "we can write string in multiple lines \n",
        "'''"
      ],
      "metadata": {
        "colab": {
          "base_uri": "https://localhost:8080/",
          "height": 35
        },
        "id": "F_zeXnbwSY4x",
        "outputId": "b878766f-4a19-4f1e-a676-529e79492f89"
      },
      "execution_count": 21,
      "outputs": [
        {
          "output_type": "execute_result",
          "data": {
            "text/plain": [
              "'\\nBy using the doc string ()\\nwe can write string in multiple lines \\n'"
            ],
            "application/vnd.google.colaboratory.intrinsic+json": {
              "type": "string"
            }
          },
          "metadata": {},
          "execution_count": 21
        }
      ]
    },
    {
      "cell_type": "code",
      "source": [
        "# ques 6\n",
        "'Hello, world!'[1]  # 'e'\n",
        "\n",
        "'Hello, world!'[0:5] # 'Hello'\n",
        "\n",
        "'Hello, world!'[:5] # 'Hello'\n",
        "\n",
        "'Hello, world!'[3:] # 'lo, world!'"
      ],
      "metadata": {
        "colab": {
          "base_uri": "https://localhost:8080/",
          "height": 35
        },
        "id": "y5S3mIcNTgDz",
        "outputId": "815ad3d5-3166-46e3-d41f-c1dfcf1c65ec"
      },
      "execution_count": 23,
      "outputs": [
        {
          "output_type": "execute_result",
          "data": {
            "text/plain": [
              "'e'"
            ],
            "application/vnd.google.colaboratory.intrinsic+json": {
              "type": "string"
            }
          },
          "metadata": {},
          "execution_count": 23
        }
      ]
    },
    {
      "cell_type": "code",
      "source": [
        "# ques 7\n",
        "\n",
        "'Hello'.upper()  # 'HELLO'\n",
        "'Hello'.upper().isupper() # True\n",
        "'Hello'.upper().lower() # 'hello'"
      ],
      "metadata": {
        "colab": {
          "base_uri": "https://localhost:8080/",
          "height": 35
        },
        "id": "dcaMeXnhT18i",
        "outputId": "68c06444-b7ca-4276-df97-e92e2f588cbc"
      },
      "execution_count": 27,
      "outputs": [
        {
          "output_type": "execute_result",
          "data": {
            "text/plain": [
              "'hello'"
            ],
            "application/vnd.google.colaboratory.intrinsic+json": {
              "type": "string"
            }
          },
          "metadata": {},
          "execution_count": 27
        }
      ]
    },
    {
      "cell_type": "code",
      "source": [
        "# ques 8\n",
        "\n",
        "'Remember, remember, the fifth of July'.split() # ['Remember,', 'remember,', 'the, 'fifth', 'of', 'july']\n",
        "'-'.join('There can only one'.split()) # There-can-only-one\n"
      ],
      "metadata": {
        "colab": {
          "base_uri": "https://localhost:8080/",
          "height": 35
        },
        "id": "k1aVMb1HUMsW",
        "outputId": "a0c484d5-3852-49ab-90d8-3b6f7e5a66d6"
      },
      "execution_count": 31,
      "outputs": [
        {
          "output_type": "execute_result",
          "data": {
            "text/plain": [
              "'There-can-only-one'"
            ],
            "application/vnd.google.colaboratory.intrinsic+json": {
              "type": "string"
            }
          },
          "metadata": {},
          "execution_count": 31
        }
      ]
    },
    {
      "cell_type": "code",
      "source": [
        "# ques 9\n",
        "'''\n",
        "right-justifying = ljust()\n",
        "\n",
        "left-justifying = ljust()\n",
        "\n",
        "center = center()  \n",
        "\n",
        "'''"
      ],
      "metadata": {
        "id": "nzxQHyWaUrS0"
      },
      "execution_count": 32,
      "outputs": []
    },
    {
      "cell_type": "code",
      "source": [
        "# ques 10\n",
        "\n",
        "# strip()\n",
        "\n",
        "s = '      hello                      '\n",
        "s.strip()"
      ],
      "metadata": {
        "colab": {
          "base_uri": "https://localhost:8080/",
          "height": 35
        },
        "id": "b6bEKYS1Vv3X",
        "outputId": "f5c4c2b0-13ed-4c6b-c8fd-b507d2d53bda"
      },
      "execution_count": 34,
      "outputs": [
        {
          "output_type": "execute_result",
          "data": {
            "text/plain": [
              "'hello'"
            ],
            "application/vnd.google.colaboratory.intrinsic+json": {
              "type": "string"
            }
          },
          "metadata": {},
          "execution_count": 34
        }
      ]
    },
    {
      "cell_type": "code",
      "source": [],
      "metadata": {
        "id": "2JRO3TomV19y"
      },
      "execution_count": null,
      "outputs": []
    }
  ],
  "metadata": {
    "colab": {
      "collapsed_sections": [],
      "provenance": []
    },
    "kernelspec": {
      "display_name": "Python 3",
      "name": "python3"
    },
    "language_info": {
      "name": "python"
    }
  },
  "nbformat": 4,
  "nbformat_minor": 0
}